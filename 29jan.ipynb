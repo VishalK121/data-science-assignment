{
 "cells": [
  {
   "cell_type": "raw",
   "id": "17ea3f2d-d7f2-46a9-b3cb-fa85da9dbe5c",
   "metadata": {},
   "source": [
    "1.Who developed Python Programming Language?\n",
    "-> Guido van Rossum developed Python Programming Language."
   ]
  },
  {
   "cell_type": "raw",
   "id": "8c2a7e70-36e3-4a42-8399-e3a65b08f178",
   "metadata": {},
   "source": [
    "2.Which type of Programming does Python support?\n",
    "->Python is an interpreted programming language that supports object-oriented, structured, functional programming."
   ]
  },
  {
   "cell_type": "raw",
   "id": "34522c24-5c45-4d19-946f-d4d9082d4d2e",
   "metadata": {},
   "source": [
    "3.Is python case sensitive when dealing with identifiers?\n",
    "->The Python language is case-sensitive. Identifiers, keywords, and names of classes must be written in lowercase letters. However, Python allows developers to write in uppercase letters for constants (i.e. variables that have a value assigned to them during program execution), and for built-in functions, and for class and module names, etc.\n",
    "The identifier is case sensitive, so “fun”, “Fun” and “FUN” are different variables. "
   ]
  },
  {
   "cell_type": "raw",
   "id": "b9f039cf-a5b6-4cef-8ac2-e9ee6aa2c6d0",
   "metadata": {},
   "source": [
    "4.What is the correct extension of python file?\n",
    "->The correct extension of Python file is .py.\n",
    "eg:- file_name.py\n",
    "Other extensions are:-.pyc,.pyo,.pyw,.pyd,.pyz,.pyi."
   ]
  },
  {
   "cell_type": "raw",
   "id": "4f90201f-4512-413b-ac59-22d380e109fd",
   "metadata": {},
   "source": [
    "5.Is python code compiled or interpreted?\n",
    "->Python is Compiled Intepreted Language."
   ]
  },
  {
   "cell_type": "raw",
   "id": "54a3a851-5543-40f1-8ace-1402ed619efb",
   "metadata": {},
   "source": [
    "6.Name a few blocks of code used to define in python language?\n",
    "->Indentation is used to define a block of code in python. Braces {} are used to define a block of code in most programming languages, like C, C++, and Java. But this indentation makes python unique among all programming languages."
   ]
  },
  {
   "cell_type": "raw",
   "id": "9a802370-95b6-4f44-81db-7afa75745987",
   "metadata": {},
   "source": [
    "7.State a character used to give single line comments in Python.\n",
    "-> # is the character used to give single line comments in Python."
   ]
  },
  {
   "cell_type": "raw",
   "id": "0e9a29c0-4f53-406b-8266-dc1037c96954",
   "metadata": {},
   "source": [
    "8.Mention functions which can help us to find the version of Python that we are currently working on.\n",
    "-> python_version()."
   ]
  },
  {
   "cell_type": "code",
   "execution_count": 6,
   "id": "a910dc4d-81db-4b92-ae3a-1c3e68828058",
   "metadata": {},
   "outputs": [
    {
     "data": {
      "text/plain": [
       "'3.10.8'"
      ]
     },
     "execution_count": 6,
     "metadata": {},
     "output_type": "execute_result"
    }
   ],
   "source": [
    "from platform import python_version\n",
    "python_version()"
   ]
  },
  {
   "cell_type": "raw",
   "id": "1cc31f04-302e-44f6-bf08-3e26196f9709",
   "metadata": {},
   "source": [
    "9.Python supports the creation of anonymous function at runtime, using a construct called- lambda"
   ]
  },
  {
   "cell_type": "raw",
   "id": "a0fc2163-1729-411a-80ea-47775504db5c",
   "metadata": {},
   "source": [
    "10.What does pip stand for python.\n",
    "->pip stands for Preferred Installer Program"
   ]
  },
  {
   "cell_type": "raw",
   "id": "e4eff539-b701-4d55-8ee1-d5f67ccc8a9e",
   "metadata": {},
   "source": [
    "11.Mention few in-built functions in Python.\n",
    "->1.max()\n",
    "  2.len()\n",
    "  3.min()\n",
    "  4.print()\n",
    "  5.input()"
   ]
  },
  {
   "cell_type": "raw",
   "id": "a4fa61c9-f422-493b-a527-630f997f1572",
   "metadata": {},
   "source": [
    "12.What is the maximum possible length of the identifier in Python?\n",
    "->In Python, the highest possible length of an identifier is 79 characters."
   ]
  },
  {
   "cell_type": "raw",
   "id": "c5641f8f-20da-4992-97dc-11405dd34b16",
   "metadata": {},
   "source": [
    "13.What are the benefits of using Pyhton?\n",
    "->1.Presence of third-party modules \n",
    "  2.Extensive support libraries(NumPy for numerical calculations, Pandas for data analytics, etc.) \n",
    "  3.Open source and large active community base \n",
    "  4.Versatile, Easy to read, learn and write\n",
    "  5.User-friendly data structures \n",
    "  6.High-level language "
   ]
  },
  {
   "cell_type": "raw",
   "id": "ced7a208-1bc9-4cef-b772-c9ca6c10f281",
   "metadata": {},
   "source": [
    "14.How is memory managed in python?\n",
    "->  According to the Python memory management documentation, Python has a private heap that stores our program’s objects and data structures. Python memory manager takes care of the bulk of the memory management work and allows us to concentrate on our code.\n",
    "Types of memory allocation:\n",
    "1.Static memory allocation\n",
    "2.Dynamic memory allocation"
   ]
  },
  {
   "cell_type": "raw",
   "id": "a8fb5cc1-e75c-490c-a972-1f81f9bcad8e",
   "metadata": {},
   "source": [
    "15.How to install Python on Windows and set path variables?\n",
    "->First off, if you've not installed Python on your machine, go to the python.org website to download and install your preferred version.\n",
    "Once Python is successfully installed on your PC, check if it's already added to the Windows PATH. Open up your terminal and type python, then hit the Enter key. The command might return an error that says \"'python' is not recognized as an internal or external command, operable program or batch file,\" indicating that Python isn't added to your machine's PATH variable yet.\n",
    "-Find Python's Installation Path on Your PC\n",
    "-Add Python to PATH in User Variables"
   ]
  },
  {
   "cell_type": "raw",
   "id": "765fe18b-97ce-44fc-89cc-9b39dd175c7a",
   "metadata": {},
   "source": [
    "16.Is identation required in python?\n",
    "->Indentation refers to the spaces at the beginning of a code line.\n",
    "Where in other programming languages the indentation in code is for readability only, the indentation in Python is very important.\n",
    "Python uses indentation to indicate a block of code.\n",
    "Python will give you an error if you skip the indentation."
   ]
  }
 ],
 "metadata": {
  "kernelspec": {
   "display_name": "Python 3 (ipykernel)",
   "language": "python",
   "name": "python3"
  },
  "language_info": {
   "codemirror_mode": {
    "name": "ipython",
    "version": 3
   },
   "file_extension": ".py",
   "mimetype": "text/x-python",
   "name": "python",
   "nbconvert_exporter": "python",
   "pygments_lexer": "ipython3",
   "version": "3.10.8"
  }
 },
 "nbformat": 4,
 "nbformat_minor": 5
}
