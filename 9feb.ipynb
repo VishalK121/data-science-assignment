{
 "cells": [
  {
   "cell_type": "raw",
   "id": "6748b005-d95e-46dd-8d54-38caeae8ba3f",
   "metadata": {},
   "source": [
    "Q1. Create a vehicle class with an init method having instance variables as name_of_vehicle, max_speed\n",
    "and average_of_vehicle. "
   ]
  },
  {
   "cell_type": "code",
   "execution_count": 33,
   "id": "b6b2750b-51de-4e47-9631-e81368aa8244",
   "metadata": {},
   "outputs": [],
   "source": [
    "class vehicle:\n",
    "    def __init__(self,name_of_vehicle,max_speed,average_of_vehicle):\n",
    "        vehicle.name=name_of_vehicle\n",
    "        vehicle.speed=max_speed\n",
    "        vehicle.average=average_of_vehicle\n",
    "    def display(self):\n",
    "        return vehicle.name, vehicle.speed, vehicle.average"
   ]
  },
  {
   "cell_type": "code",
   "execution_count": 34,
   "id": "142b5c60-f86c-4180-877f-96346aea3cb8",
   "metadata": {},
   "outputs": [],
   "source": [
    "obj=vehicle(\"Audi\",120,30)"
   ]
  },
  {
   "cell_type": "code",
   "execution_count": 35,
   "id": "387015c4-12a8-4fad-a3fb-8347540f8b21",
   "metadata": {},
   "outputs": [
    {
     "data": {
      "text/plain": [
       "('Audi', 120, 30)"
      ]
     },
     "execution_count": 35,
     "metadata": {},
     "output_type": "execute_result"
    }
   ],
   "source": [
    "obj.display()"
   ]
  },
  {
   "cell_type": "raw",
   "id": "c4a8e144-d26e-475b-9fcb-a3ffd24157f4",
   "metadata": {},
   "source": [
    "Q2.  Create a child class car from the vehicle class created in Que 1, which will inherit the vehicle class.\n",
    "Create a method named seating_capacity which takes capacity as an argument and returns the name of\n",
    "the vehicle and its seating capacity."
   ]
  },
  {
   "cell_type": "code",
   "execution_count": 36,
   "id": "1160bcfc-0db9-4270-9646-f88c2c46c8f6",
   "metadata": {},
   "outputs": [],
   "source": [
    "class car(vehicle):\n",
    "    def seating_capacity(self):\n",
    "        capacity=int(input(\"Enter seating capacity: \"))\n",
    "        print(f\"Name of Vehicle: {vehicle.name}\\nSeating Capacity: {capacity}\")\n",
    "        "
   ]
  },
  {
   "cell_type": "code",
   "execution_count": 37,
   "id": "b8ca0363-586b-4513-b7cf-c49aa5351c6a",
   "metadata": {},
   "outputs": [],
   "source": [
    "obj1=car(\"Audi\",120,30)"
   ]
  },
  {
   "cell_type": "code",
   "execution_count": 39,
   "id": "9248c877-bd2a-48ab-b4e0-5cee3cea857d",
   "metadata": {},
   "outputs": [
    {
     "name": "stdin",
     "output_type": "stream",
     "text": [
      "Enter seating capacity:  4\n"
     ]
    },
    {
     "name": "stdout",
     "output_type": "stream",
     "text": [
      "Name of Vehicle: Audi\n",
      "Seating Capacity: 4\n"
     ]
    }
   ],
   "source": [
    "obj1.seating_capacity()"
   ]
  },
  {
   "cell_type": "raw",
   "id": "a3350cc4-b0fa-4330-8ade-7f467eaed6b0",
   "metadata": {},
   "source": [
    "Q3. What is multiple inheritance? Write a python code to demonstrate multiple inheritance."
   ]
  },
  {
   "cell_type": "raw",
   "id": "6e77d79b-f424-4ca7-af2e-406e8d4719ce",
   "metadata": {},
   "source": [
    "Ans3: When a class is derived from more than one base class it is called multiple Inheritance. The derived class inherits all the features of the base case."
   ]
  },
  {
   "cell_type": "code",
   "execution_count": 40,
   "id": "5d5f4c6b-31cb-4d9e-8622-16161bd609e6",
   "metadata": {},
   "outputs": [],
   "source": [
    "class class1:\n",
    "    def display1(self):\n",
    "        print(\"This is my class1\")\n",
    "class class2:\n",
    "    def display2(self):\n",
    "        print(\"This is my class2\")\n",
    "class class3(class1,class2):\n",
    "    def display3(self):\n",
    "        print(\"This is my class3\")"
   ]
  },
  {
   "cell_type": "code",
   "execution_count": 41,
   "id": "7111e950-158a-40ab-bd57-442c822f49a1",
   "metadata": {},
   "outputs": [],
   "source": [
    "obj2=class3()"
   ]
  },
  {
   "cell_type": "code",
   "execution_count": 42,
   "id": "fc73e870-2006-4f40-83b5-c14c91fcaf38",
   "metadata": {},
   "outputs": [
    {
     "name": "stdout",
     "output_type": "stream",
     "text": [
      "This is my class1\n",
      "This is my class2\n",
      "This is my class3\n"
     ]
    }
   ],
   "source": [
    "obj2.display1()\n",
    "obj2.display2()\n",
    "obj2.display3()"
   ]
  },
  {
   "cell_type": "raw",
   "id": "070db453-2cf1-4f27-928b-5b4694cfb0b7",
   "metadata": {},
   "source": [
    "Q4. What are getter and setter in python? Create a class and create a getter and a setter method in this\n",
    "class"
   ]
  },
  {
   "cell_type": "raw",
   "id": "1d068ab5-c434-4b22-9541-02928abc113d",
   "metadata": {},
   "source": [
    "n Python, getters and setters are not the same as those in other object-oriented programming languages. Basically, the main purpose of using getters and setters in object-oriented programs is to ensure data encapsulation. Private variables in python are not actually hidden fields like in other object oriented languages. "
   ]
  },
  {
   "cell_type": "code",
   "execution_count": 43,
   "id": "a1f662da-c878-47e8-a86f-71d23170bc52",
   "metadata": {},
   "outputs": [
    {
     "name": "stdout",
     "output_type": "stream",
     "text": [
      "0\n"
     ]
    }
   ],
   "source": [
    "class number:\n",
    "    def __init__(self, num=0):\n",
    "        self._num = num\n",
    "\n",
    "    # getter method\n",
    "    def get_number(self):\n",
    "        return self._num\n",
    "\n",
    "    # setter method\n",
    "    def set_number(self, a):\n",
    "        self._num = a\n",
    "\n",
    "obj4 = number()\n",
    "# Before using setter\n",
    "print(obj4.get_number())"
   ]
  },
  {
   "cell_type": "code",
   "execution_count": 44,
   "id": "3b788486-2abe-4fbb-8ef9-4cbf7375b410",
   "metadata": {},
   "outputs": [],
   "source": [
    "obj4.set_number(8)"
   ]
  },
  {
   "cell_type": "code",
   "execution_count": 45,
   "id": "808738a8-9d0f-4334-85c9-e308eb129622",
   "metadata": {},
   "outputs": [
    {
     "data": {
      "text/plain": [
       "8"
      ]
     },
     "execution_count": 45,
     "metadata": {},
     "output_type": "execute_result"
    }
   ],
   "source": [
    "obj4.get_number()"
   ]
  },
  {
   "cell_type": "raw",
   "id": "2ca2b5c3-d1a3-485f-95c2-c921f5bde2b4",
   "metadata": {},
   "source": [
    "Q5.What is method overriding in python? Write a python code to demonstrate method overriding."
   ]
  },
  {
   "cell_type": "code",
   "execution_count": 49,
   "id": "ccde7b79-d2c7-4d98-8627-dff589cb1744",
   "metadata": {},
   "outputs": [],
   "source": [
    "class Parent:\n",
    "    def __init__(self):\n",
    "        self.value=10\n",
    "    def show(self):\n",
    "        return self.value"
   ]
  },
  {
   "cell_type": "code",
   "execution_count": 54,
   "id": "718e6f97-fac9-47d3-a255-40d6ee4f5b7c",
   "metadata": {},
   "outputs": [],
   "source": [
    "class child(Parent):\n",
    "    def __init__(self):\n",
    "        self.value=20\n",
    "    def show(self):\n",
    "        return self.value"
   ]
  },
  {
   "cell_type": "code",
   "execution_count": 55,
   "id": "b0a958c2-8ee8-4c48-b2c2-fda12326bec4",
   "metadata": {},
   "outputs": [],
   "source": [
    "a=child()"
   ]
  },
  {
   "cell_type": "code",
   "execution_count": 56,
   "id": "1d9ede1f-770a-4b36-bea0-43753417daec",
   "metadata": {},
   "outputs": [
    {
     "data": {
      "text/plain": [
       "20"
      ]
     },
     "execution_count": 56,
     "metadata": {},
     "output_type": "execute_result"
    }
   ],
   "source": [
    "a.show()"
   ]
  },
  {
   "cell_type": "code",
   "execution_count": null,
   "id": "f6c678e0-b837-4796-8f19-19d31a4e7072",
   "metadata": {},
   "outputs": [],
   "source": []
  }
 ],
 "metadata": {
  "kernelspec": {
   "display_name": "Python 3 (ipykernel)",
   "language": "python",
   "name": "python3"
  },
  "language_info": {
   "codemirror_mode": {
    "name": "ipython",
    "version": 3
   },
   "file_extension": ".py",
   "mimetype": "text/x-python",
   "name": "python",
   "nbconvert_exporter": "python",
   "pygments_lexer": "ipython3",
   "version": "3.10.8"
  }
 },
 "nbformat": 4,
 "nbformat_minor": 5
}
