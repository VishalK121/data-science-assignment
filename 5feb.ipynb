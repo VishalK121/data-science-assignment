{
 "cells": [
  {
   "cell_type": "raw",
   "id": "0f46809a-8910-471d-8f42-e6c590b31cb2",
   "metadata": {},
   "source": [
    "Q1. Explain Class and Object with respect to Object-Oriented Programming. Give a suitable example."
   ]
  },
  {
   "cell_type": "markdown",
   "id": "0a71a5db-23df-499d-990a-523fe95716a0",
   "metadata": {},
   "source": [
    "##### Ans1: "
   ]
  },
  {
   "cell_type": "raw",
   "id": "8bd9bc89-109d-457e-a86a-0960aa1db8c6",
   "metadata": {},
   "source": [
    "Class are a blueprint or a set of instructions to build a specific type of object. It is a basic concept of Object-Oriented Programming which revolve around the real-life entities. Class determines how an object will behave and what the object will contain.\n",
    "\n",
    "Object is an instance of a class. An object in OOPS is nothing but a self-contained component which consists of methods and properties to make a particular type of data useful."
   ]
  },
  {
   "cell_type": "code",
   "execution_count": 10,
   "id": "7464bf57-312b-48b6-a70f-2ba07820ef44",
   "metadata": {},
   "outputs": [],
   "source": [
    "class demo:\n",
    "    def display(self):\n",
    "        print(\"Hello World!!\")"
   ]
  },
  {
   "cell_type": "code",
   "execution_count": 11,
   "id": "e7bd7cc2-78a2-4de3-b72b-76dab195f031",
   "metadata": {},
   "outputs": [
    {
     "name": "stdout",
     "output_type": "stream",
     "text": [
      "Hello World!!\n"
     ]
    }
   ],
   "source": [
    "d=demo()\n",
    "d.display()"
   ]
  },
  {
   "cell_type": "raw",
   "id": "3636f9b6-5988-4b2d-9bae-da2a96bf3d76",
   "metadata": {},
   "source": [
    "Q2. Name the four pillars of OOPs."
   ]
  },
  {
   "cell_type": "markdown",
   "id": "5248c995-df01-45e0-bc6d-5ba8f61e7986",
   "metadata": {},
   "source": [
    "##### Ans2: "
   ]
  },
  {
   "cell_type": "raw",
   "id": "c28d3680-74cd-4c66-bf60-2c182851e3be",
   "metadata": {},
   "source": [
    "1. Data abstraction\n",
    "2. Encapsulation\n",
    "3. Inheritance\n",
    "4. Polymorphism"
   ]
  },
  {
   "cell_type": "raw",
   "id": "59c9381d-3a33-47dc-818b-5770ff851c02",
   "metadata": {},
   "source": [
    "Q3. Explain why the __init__() function is used. Give a suitable example."
   ]
  },
  {
   "cell_type": "markdown",
   "id": "d2df6e26-33ec-4b52-a85e-d114002c3469",
   "metadata": {},
   "source": [
    "##### Ans3:"
   ]
  },
  {
   "cell_type": "raw",
   "id": "583e891d-5240-48eb-acba-4b5f10ebfa88",
   "metadata": {},
   "source": [
    " __init__ is a special python method that runs whenever a new object is created. These types of functions are used to initialize the attributes of that class"
   ]
  },
  {
   "cell_type": "raw",
   "id": "fd5d7da9-47b6-40c8-b097-6455b9b63580",
   "metadata": {},
   "source": [
    "class addition:\n",
    "    def __init__(self,a,b):\n",
    "        self.a=a\n",
    "        self.b=b\n",
    "    def display(self):\n",
    "        print(\"Addition: \",self.a+self.b)"
   ]
  },
  {
   "cell_type": "code",
   "execution_count": 8,
   "id": "b0843ce6-b693-49bb-8b89-a876055f44a6",
   "metadata": {},
   "outputs": [
    {
     "name": "stdout",
     "output_type": "stream",
     "text": [
      "Addition:  13\n"
     ]
    }
   ],
   "source": [
    "obj=addition(6,7)\n",
    "obj.display()"
   ]
  },
  {
   "cell_type": "raw",
   "id": "9ff9f84e-0c28-4f55-8e11-cdc41370d4c7",
   "metadata": {},
   "source": [
    "Q4. Why self is used in OOPs?"
   ]
  },
  {
   "cell_type": "markdown",
   "id": "67214b77-7855-4e30-976b-34c99a4b692d",
   "metadata": {},
   "source": [
    "##### Ans4:"
   ]
  },
  {
   "cell_type": "raw",
   "id": "7d7897ae-f6d7-4d4a-abb6-c4f2b25376d0",
   "metadata": {},
   "source": [
    "Self represents the instance of the class. By using the “self”  we can access the attributes and methods of the class in python. It binds the attributes with the given arguments."
   ]
  },
  {
   "cell_type": "raw",
   "id": "fc3b3f75-4d24-499f-8849-af98bc7a1b87",
   "metadata": {},
   "source": [
    "Q5. What is inheritance? Give an example for each type of inheritance."
   ]
  },
  {
   "cell_type": "markdown",
   "id": "aa636f14-2063-4888-8f65-2b95a4b526c8",
   "metadata": {},
   "source": [
    "##### Ans5: "
   ]
  },
  {
   "cell_type": "raw",
   "id": "219d91e0-e88c-4318-bf50-c17b0113d372",
   "metadata": {},
   "source": [
    "Inheritance allows us to define a class that inherits all the methods and properties from another class.\n",
    "Parent class is the class being inherited from, also called base class.\n",
    "Child class is the class that inherits from another class, also called derived class."
   ]
  },
  {
   "cell_type": "code",
   "execution_count": 12,
   "id": "f8119ba7-eccb-4ec1-a7be-1747303cab6e",
   "metadata": {},
   "outputs": [],
   "source": [
    "class base:\n",
    "    def display(self):\n",
    "        print(\"This is base class function\")\n",
    "class derived(base):\n",
    "    def display2(self):\n",
    "        print(\"This is derived class function\")"
   ]
  },
  {
   "cell_type": "code",
   "execution_count": 13,
   "id": "54c01185-f9c7-42e8-9744-7ee13fce2bf0",
   "metadata": {},
   "outputs": [],
   "source": [
    "base_obj=derived()"
   ]
  },
  {
   "cell_type": "code",
   "execution_count": 14,
   "id": "b9231832-30dc-4979-b580-478e3bf6170f",
   "metadata": {},
   "outputs": [
    {
     "name": "stdout",
     "output_type": "stream",
     "text": [
      "This is derived class function\n",
      "This is base class function\n"
     ]
    }
   ],
   "source": [
    "base_obj.display2()\n",
    "base_obj.display()"
   ]
  },
  {
   "cell_type": "code",
   "execution_count": null,
   "id": "02b62ae2-69dd-47f9-b614-44ac5b9f7fd2",
   "metadata": {},
   "outputs": [],
   "source": []
  }
 ],
 "metadata": {
  "kernelspec": {
   "display_name": "Python 3 (ipykernel)",
   "language": "python",
   "name": "python3"
  },
  "language_info": {
   "codemirror_mode": {
    "name": "ipython",
    "version": 3
   },
   "file_extension": ".py",
   "mimetype": "text/x-python",
   "name": "python",
   "nbconvert_exporter": "python",
   "pygments_lexer": "ipython3",
   "version": "3.10.8"
  }
 },
 "nbformat": 4,
 "nbformat_minor": 5
}
