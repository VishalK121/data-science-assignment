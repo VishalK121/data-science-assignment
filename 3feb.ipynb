{
 "cells": [
  {
   "cell_type": "raw",
   "id": "f17677fe-0392-4726-b30a-3a58964b6aa6",
   "metadata": {},
   "source": [
    "1.Which keyword is used to create a function? Create a function to return a list of odd numbers in the\n",
    "range of 1 to 25."
   ]
  },
  {
   "cell_type": "raw",
   "id": "65332808-0771-4ab5-b96a-ce627ac6120c",
   "metadata": {},
   "source": [
    "Ans1: def keyword is used to create function in python. "
   ]
  },
  {
   "cell_type": "code",
   "execution_count": 1,
   "id": "4453bbea-85d7-4cfb-a340-22d80cb71ed1",
   "metadata": {},
   "outputs": [],
   "source": [
    "def oddnum():\n",
    "    for i in range(1,26):\n",
    "        if(i%2==1):\n",
    "            print(i,end=\" \")"
   ]
  },
  {
   "cell_type": "code",
   "execution_count": 2,
   "id": "2439f8f5-a505-4e50-a650-4ded1994e951",
   "metadata": {},
   "outputs": [
    {
     "name": "stdout",
     "output_type": "stream",
     "text": [
      "1 3 5 7 9 11 13 15 17 19 21 23 25 "
     ]
    }
   ],
   "source": [
    "oddnum()"
   ]
  },
  {
   "cell_type": "raw",
   "id": "82e76f08-2a48-48c0-a39c-cb8b01c7ccee",
   "metadata": {},
   "source": [
    "2. Why *args and **kwargs is used in some functions? Create a function each for *args and **kwargs to\n",
    "demonstrate their use."
   ]
  },
  {
   "cell_type": "raw",
   "id": "944d2fa3-e5ee-42bc-b475-82a659ab8265",
   "metadata": {},
   "source": [
    "Ans2: 1.The special syntax *args in function definitions in python is used to pass a variable number of arguments to a function. It is used to pass a non-key worded, variable-length argument list. "
   ]
  },
  {
   "cell_type": "code",
   "execution_count": 7,
   "id": "6a61318c-1b91-4d5f-a314-82326aded599",
   "metadata": {},
   "outputs": [],
   "source": [
    "def add(*num):\n",
    "    sum=0\n",
    "    for i in num:\n",
    "        sum=sum+i\n",
    "    print(\"Addition: \",sum)"
   ]
  },
  {
   "cell_type": "code",
   "execution_count": 8,
   "id": "0fef9e25-2efb-46df-8e13-3ecd5b8f8da1",
   "metadata": {},
   "outputs": [
    {
     "name": "stdout",
     "output_type": "stream",
     "text": [
      "Addition:  13\n"
     ]
    }
   ],
   "source": [
    "add(1,4,6,2)"
   ]
  },
  {
   "cell_type": "raw",
   "id": "26009ab3-02cd-4809-af43-eece6f2b036a",
   "metadata": {},
   "source": [
    "2.Python passes variable length non keyword argument to function using *args but we cannot use this to pass keyword argument. For this problem Python has got a solution called **kwargs, it allows us to pass the variable length of keyword arguments to the function.\n",
    "In the function, we use the double asterisk ** before the parameter name to denote this type of argument. The arguments are passed as a dictionary "
   ]
  },
  {
   "cell_type": "code",
   "execution_count": 14,
   "id": "f916fbe1-9fa2-4dfb-af99-669346f7cea3",
   "metadata": {},
   "outputs": [],
   "source": [
    "def details(**detail):\n",
    "    for key,value in detail.items():\n",
    "        print(key,\": \",value)"
   ]
  },
  {
   "cell_type": "code",
   "execution_count": 15,
   "id": "1a8d06f1-d540-44ab-95e2-20fc5bc8fa28",
   "metadata": {},
   "outputs": [
    {
     "name": "stdout",
     "output_type": "stream",
     "text": [
      "name :  Vishal\n",
      "email :  abc@gmail.com\n",
      "phone_no :  82042\n"
     ]
    }
   ],
   "source": [
    "details(name=\"Vishal\",email= \"abc@gmail.com\",phone_no=82042)"
   ]
  },
  {
   "cell_type": "raw",
   "id": "48bf0a46-3d1e-4743-9b82-ab59a702f287",
   "metadata": {},
   "source": [
    "3. What is an iterator in python? Name the method used to initialise the iterator object and the method\n",
    "used for iteration. Use these methods to print the first five elements of the given list [2, 4, 6, 8, 10, 12, 14, 16,\n",
    "18, 20]."
   ]
  },
  {
   "cell_type": "raw",
   "id": "19d1cc46-c7e6-4b9c-a66c-e82ded221e7d",
   "metadata": {},
   "source": [
    "Ans3:  Iterators in Python are objects that allow you to iterate through all the elements in a collection, regardless of their implementation. \n",
    "1.__iter__(): The iter() method is called for the initialization of an iterator. This returns an iterator object"
   ]
  },
  {
   "cell_type": "code",
   "execution_count": 19,
   "id": "93097b19-1e73-4e86-a407-a8e9e8f5604d",
   "metadata": {},
   "outputs": [
    {
     "name": "stdout",
     "output_type": "stream",
     "text": [
      "2 4 6 8 10 "
     ]
    }
   ],
   "source": [
    "A=[2,4,6,8,10,12,14]\n",
    "a=iter(A)\n",
    "for i in range(5):\n",
    "    print(next(a), end=\" \")"
   ]
  },
  {
   "cell_type": "raw",
   "id": "71126743-b0b0-4ee0-9543-f116048cce70",
   "metadata": {},
   "source": [
    "4. What is a generator function in python? Why yield keyword is used? Give an example of a generator function."
   ]
  },
  {
   "cell_type": "raw",
   "id": "0d1fbe13-9695-4740-8cb9-0ec943a739ec",
   "metadata": {},
   "source": [
    "Ans4: Generator function in Python is a function that is commonly used to return a sequence of values. Generator function behaves like a normal function but rather it uses a yield statement to return a value instead of return statement. If the body of a function contains yield statement, the function automatically becomes a generator function."
   ]
  },
  {
   "cell_type": "code",
   "execution_count": 20,
   "id": "3477f0a1-4416-4a52-9dc0-652a8b312a1d",
   "metadata": {},
   "outputs": [],
   "source": [
    "def even(A):\n",
    "    for i in A:\n",
    "        if(i%2==0):\n",
    "            yield i"
   ]
  },
  {
   "cell_type": "code",
   "execution_count": 21,
   "id": "33c0d9c2-f953-4b06-becf-d0c702a15461",
   "metadata": {},
   "outputs": [],
   "source": [
    "A=[1,2,4,5,7,8,9,34]"
   ]
  },
  {
   "cell_type": "code",
   "execution_count": 25,
   "id": "4e586c39-ba27-4cc3-8f7b-e6d9ea6113de",
   "metadata": {},
   "outputs": [
    {
     "name": "stdout",
     "output_type": "stream",
     "text": [
      "2 4 8 34 "
     ]
    }
   ],
   "source": [
    "for i in even(A):\n",
    "    print(i,end=\" \")"
   ]
  },
  {
   "cell_type": "raw",
   "id": "ac98bde7-0ca3-43a4-87ea-386925c0af2a",
   "metadata": {},
   "source": [
    "5. Create a generator function for prime numbers less than 1000. Use the next() method to print the\n",
    "first 20 prime numbers."
   ]
  },
  {
   "cell_type": "code",
   "execution_count": 32,
   "id": "975f5178-b5c8-4016-8652-bfda4c49ccb5",
   "metadata": {},
   "outputs": [],
   "source": [
    "def prime_number():\n",
    "    for i in range(2,1001):\n",
    "        for j in range(2,i):\n",
    "            if(i%j==0):\n",
    "                break\n",
    "            if(j+1==i):\n",
    "                yield i"
   ]
  },
  {
   "cell_type": "code",
   "execution_count": 33,
   "id": "9449235a-58ee-45a0-8724-6ce7e080612d",
   "metadata": {},
   "outputs": [
    {
     "name": "stdout",
     "output_type": "stream",
     "text": [
      "3\n",
      "5\n",
      "7\n",
      "11\n",
      "13\n",
      "17\n",
      "19\n",
      "23\n",
      "29\n",
      "31\n",
      "37\n",
      "41\n",
      "43\n",
      "47\n",
      "53\n",
      "59\n",
      "61\n",
      "67\n",
      "71\n",
      "73\n"
     ]
    }
   ],
   "source": [
    "A=iter(prime_number())\n",
    "for i in range(20):\n",
    "    print(next(A))"
   ]
  },
  {
   "cell_type": "code",
   "execution_count": null,
   "id": "ee87ae5c-8035-486d-b3c9-777a52b1bd10",
   "metadata": {},
   "outputs": [],
   "source": []
  }
 ],
 "metadata": {
  "kernelspec": {
   "display_name": "Python 3 (ipykernel)",
   "language": "python",
   "name": "python3"
  },
  "language_info": {
   "codemirror_mode": {
    "name": "ipython",
    "version": 3
   },
   "file_extension": ".py",
   "mimetype": "text/x-python",
   "name": "python",
   "nbconvert_exporter": "python",
   "pygments_lexer": "ipython3",
   "version": "3.10.8"
  }
 },
 "nbformat": 4,
 "nbformat_minor": 5
}
